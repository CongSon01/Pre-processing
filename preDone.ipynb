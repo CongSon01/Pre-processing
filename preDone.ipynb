{
 "cells": [
  {
   "cell_type": "code",
   "execution_count": 1,
   "source": [
    "import pandas as pd\r\n",
    "import numpy as np\r\n",
    "\r\n",
    "import random\r\n",
    "random.seed(10)\r\n",
    "np.random.seed(11)\r\n",
    "\r\n",
    "import missingno as mno\r\n",
    "from sklearn.impute import KNNImputer\r\n",
    "\r\n",
    "from sklearn.model_selection import train_test_split\r\n",
    "from sklearn.preprocessing import StandardScaler, MinMaxScaler, OneHotEncoder, LabelEncoder\r\n",
    "\r\n",
    "from sklearn.linear_model import LinearRegression\r\n",
    "\r\n",
    "import matplotlib.pyplot as plt\r\n",
    "import seaborn as sns\r\n",
    "import warnings\r\n",
    "warnings.filterwarnings(\"ignore\")"
   ],
   "outputs": [],
   "metadata": {}
  },
  {
   "cell_type": "code",
   "execution_count": 137,
   "source": [
    "df = pd.read_csv('./Melbourne_housing_FULL.csv')"
   ],
   "outputs": [],
   "metadata": {}
  },
  {
   "cell_type": "code",
   "execution_count": 138,
   "source": [
    "print('Observations : ', df.shape[0])\r\n",
    "print('Features -- exclude the Price: ', df.shape[1] - 1)"
   ],
   "outputs": [
    {
     "output_type": "stream",
     "name": "stdout",
     "text": [
      "Observations :  34857\n",
      "Features -- exclude the Price:  20\n"
     ]
    }
   ],
   "metadata": {}
  },
  {
   "cell_type": "code",
   "execution_count": 139,
   "source": [
    "# Datatypes\r\n",
    "df.info()"
   ],
   "outputs": [
    {
     "output_type": "stream",
     "name": "stdout",
     "text": [
      "<class 'pandas.core.frame.DataFrame'>\n",
      "RangeIndex: 34857 entries, 0 to 34856\n",
      "Data columns (total 21 columns):\n",
      " #   Column         Non-Null Count  Dtype  \n",
      "---  ------         --------------  -----  \n",
      " 0   Suburb         34857 non-null  object \n",
      " 1   Address        34857 non-null  object \n",
      " 2   Rooms          34857 non-null  int64  \n",
      " 3   Type           34857 non-null  object \n",
      " 4   Price          27247 non-null  float64\n",
      " 5   Method         34857 non-null  object \n",
      " 6   SellerG        34857 non-null  object \n",
      " 7   Date           34857 non-null  object \n",
      " 8   Distance       34856 non-null  float64\n",
      " 9   Postcode       34856 non-null  float64\n",
      " 10  Bedroom2       26640 non-null  float64\n",
      " 11  Bathroom       26631 non-null  float64\n",
      " 12  Car            26129 non-null  float64\n",
      " 13  Landsize       23047 non-null  float64\n",
      " 14  BuildingArea   13742 non-null  float64\n",
      " 15  YearBuilt      15551 non-null  float64\n",
      " 16  CouncilArea    34854 non-null  object \n",
      " 17  Lattitude      26881 non-null  float64\n",
      " 18  Longtitude     26881 non-null  float64\n",
      " 19  Regionname     34854 non-null  object \n",
      " 20  Propertycount  34854 non-null  float64\n",
      "dtypes: float64(12), int64(1), object(8)\n",
      "memory usage: 5.6+ MB\n"
     ]
    }
   ],
   "metadata": {}
  },
  {
   "cell_type": "code",
   "execution_count": 140,
   "source": [
    "df.head(5)"
   ],
   "outputs": [
    {
     "output_type": "execute_result",
     "data": {
      "text/html": [
       "<div>\n",
       "<style scoped>\n",
       "    .dataframe tbody tr th:only-of-type {\n",
       "        vertical-align: middle;\n",
       "    }\n",
       "\n",
       "    .dataframe tbody tr th {\n",
       "        vertical-align: top;\n",
       "    }\n",
       "\n",
       "    .dataframe thead th {\n",
       "        text-align: right;\n",
       "    }\n",
       "</style>\n",
       "<table border=\"1\" class=\"dataframe\">\n",
       "  <thead>\n",
       "    <tr style=\"text-align: right;\">\n",
       "      <th></th>\n",
       "      <th>Suburb</th>\n",
       "      <th>Address</th>\n",
       "      <th>Rooms</th>\n",
       "      <th>Type</th>\n",
       "      <th>Price</th>\n",
       "      <th>Method</th>\n",
       "      <th>SellerG</th>\n",
       "      <th>Date</th>\n",
       "      <th>Distance</th>\n",
       "      <th>Postcode</th>\n",
       "      <th>...</th>\n",
       "      <th>Bathroom</th>\n",
       "      <th>Car</th>\n",
       "      <th>Landsize</th>\n",
       "      <th>BuildingArea</th>\n",
       "      <th>YearBuilt</th>\n",
       "      <th>CouncilArea</th>\n",
       "      <th>Lattitude</th>\n",
       "      <th>Longtitude</th>\n",
       "      <th>Regionname</th>\n",
       "      <th>Propertycount</th>\n",
       "    </tr>\n",
       "  </thead>\n",
       "  <tbody>\n",
       "    <tr>\n",
       "      <th>0</th>\n",
       "      <td>Abbotsford</td>\n",
       "      <td>68 Studley St</td>\n",
       "      <td>2</td>\n",
       "      <td>h</td>\n",
       "      <td>NaN</td>\n",
       "      <td>SS</td>\n",
       "      <td>Jellis</td>\n",
       "      <td>3/09/2016</td>\n",
       "      <td>2.5</td>\n",
       "      <td>3067.0</td>\n",
       "      <td>...</td>\n",
       "      <td>1.0</td>\n",
       "      <td>1.0</td>\n",
       "      <td>126.0</td>\n",
       "      <td>NaN</td>\n",
       "      <td>NaN</td>\n",
       "      <td>Yarra City Council</td>\n",
       "      <td>-37.8014</td>\n",
       "      <td>144.9958</td>\n",
       "      <td>Northern Metropolitan</td>\n",
       "      <td>4019.0</td>\n",
       "    </tr>\n",
       "    <tr>\n",
       "      <th>1</th>\n",
       "      <td>Abbotsford</td>\n",
       "      <td>85 Turner St</td>\n",
       "      <td>2</td>\n",
       "      <td>h</td>\n",
       "      <td>1480000.0</td>\n",
       "      <td>S</td>\n",
       "      <td>Biggin</td>\n",
       "      <td>3/12/2016</td>\n",
       "      <td>2.5</td>\n",
       "      <td>3067.0</td>\n",
       "      <td>...</td>\n",
       "      <td>1.0</td>\n",
       "      <td>1.0</td>\n",
       "      <td>202.0</td>\n",
       "      <td>NaN</td>\n",
       "      <td>NaN</td>\n",
       "      <td>Yarra City Council</td>\n",
       "      <td>-37.7996</td>\n",
       "      <td>144.9984</td>\n",
       "      <td>Northern Metropolitan</td>\n",
       "      <td>4019.0</td>\n",
       "    </tr>\n",
       "    <tr>\n",
       "      <th>2</th>\n",
       "      <td>Abbotsford</td>\n",
       "      <td>25 Bloomburg St</td>\n",
       "      <td>2</td>\n",
       "      <td>h</td>\n",
       "      <td>1035000.0</td>\n",
       "      <td>S</td>\n",
       "      <td>Biggin</td>\n",
       "      <td>4/02/2016</td>\n",
       "      <td>2.5</td>\n",
       "      <td>3067.0</td>\n",
       "      <td>...</td>\n",
       "      <td>1.0</td>\n",
       "      <td>0.0</td>\n",
       "      <td>156.0</td>\n",
       "      <td>79.0</td>\n",
       "      <td>1900.0</td>\n",
       "      <td>Yarra City Council</td>\n",
       "      <td>-37.8079</td>\n",
       "      <td>144.9934</td>\n",
       "      <td>Northern Metropolitan</td>\n",
       "      <td>4019.0</td>\n",
       "    </tr>\n",
       "    <tr>\n",
       "      <th>3</th>\n",
       "      <td>Abbotsford</td>\n",
       "      <td>18/659 Victoria St</td>\n",
       "      <td>3</td>\n",
       "      <td>u</td>\n",
       "      <td>NaN</td>\n",
       "      <td>VB</td>\n",
       "      <td>Rounds</td>\n",
       "      <td>4/02/2016</td>\n",
       "      <td>2.5</td>\n",
       "      <td>3067.0</td>\n",
       "      <td>...</td>\n",
       "      <td>2.0</td>\n",
       "      <td>1.0</td>\n",
       "      <td>0.0</td>\n",
       "      <td>NaN</td>\n",
       "      <td>NaN</td>\n",
       "      <td>Yarra City Council</td>\n",
       "      <td>-37.8114</td>\n",
       "      <td>145.0116</td>\n",
       "      <td>Northern Metropolitan</td>\n",
       "      <td>4019.0</td>\n",
       "    </tr>\n",
       "    <tr>\n",
       "      <th>4</th>\n",
       "      <td>Abbotsford</td>\n",
       "      <td>5 Charles St</td>\n",
       "      <td>3</td>\n",
       "      <td>h</td>\n",
       "      <td>1465000.0</td>\n",
       "      <td>SP</td>\n",
       "      <td>Biggin</td>\n",
       "      <td>4/03/2017</td>\n",
       "      <td>2.5</td>\n",
       "      <td>3067.0</td>\n",
       "      <td>...</td>\n",
       "      <td>2.0</td>\n",
       "      <td>0.0</td>\n",
       "      <td>134.0</td>\n",
       "      <td>150.0</td>\n",
       "      <td>1900.0</td>\n",
       "      <td>Yarra City Council</td>\n",
       "      <td>-37.8093</td>\n",
       "      <td>144.9944</td>\n",
       "      <td>Northern Metropolitan</td>\n",
       "      <td>4019.0</td>\n",
       "    </tr>\n",
       "  </tbody>\n",
       "</table>\n",
       "<p>5 rows × 21 columns</p>\n",
       "</div>"
      ],
      "text/plain": [
       "       Suburb             Address  Rooms Type      Price Method SellerG  \\\n",
       "0  Abbotsford       68 Studley St      2    h        NaN     SS  Jellis   \n",
       "1  Abbotsford        85 Turner St      2    h  1480000.0      S  Biggin   \n",
       "2  Abbotsford     25 Bloomburg St      2    h  1035000.0      S  Biggin   \n",
       "3  Abbotsford  18/659 Victoria St      3    u        NaN     VB  Rounds   \n",
       "4  Abbotsford        5 Charles St      3    h  1465000.0     SP  Biggin   \n",
       "\n",
       "        Date  Distance  Postcode  ...  Bathroom  Car  Landsize  BuildingArea  \\\n",
       "0  3/09/2016       2.5    3067.0  ...       1.0  1.0     126.0           NaN   \n",
       "1  3/12/2016       2.5    3067.0  ...       1.0  1.0     202.0           NaN   \n",
       "2  4/02/2016       2.5    3067.0  ...       1.0  0.0     156.0          79.0   \n",
       "3  4/02/2016       2.5    3067.0  ...       2.0  1.0       0.0           NaN   \n",
       "4  4/03/2017       2.5    3067.0  ...       2.0  0.0     134.0         150.0   \n",
       "\n",
       "   YearBuilt         CouncilArea Lattitude  Longtitude             Regionname  \\\n",
       "0        NaN  Yarra City Council  -37.8014    144.9958  Northern Metropolitan   \n",
       "1        NaN  Yarra City Council  -37.7996    144.9984  Northern Metropolitan   \n",
       "2     1900.0  Yarra City Council  -37.8079    144.9934  Northern Metropolitan   \n",
       "3        NaN  Yarra City Council  -37.8114    145.0116  Northern Metropolitan   \n",
       "4     1900.0  Yarra City Council  -37.8093    144.9944  Northern Metropolitan   \n",
       "\n",
       "  Propertycount  \n",
       "0        4019.0  \n",
       "1        4019.0  \n",
       "2        4019.0  \n",
       "3        4019.0  \n",
       "4        4019.0  \n",
       "\n",
       "[5 rows x 21 columns]"
      ]
     },
     "metadata": {},
     "execution_count": 140
    }
   ],
   "metadata": {}
  },
  {
   "cell_type": "code",
   "execution_count": 141,
   "source": [
    "# zero values\r\n",
    "(df==0).sum().sort_values(ascending=False).head(6)"
   ],
   "outputs": [
    {
     "output_type": "execute_result",
     "data": {
      "text/plain": [
       "Landsize        2437\n",
       "Car             1631\n",
       "Distance          77\n",
       "BuildingArea      76\n",
       "Bathroom          46\n",
       "Bedroom2          17\n",
       "dtype: int64"
      ]
     },
     "metadata": {},
     "execution_count": 141
    }
   ],
   "metadata": {}
  },
  {
   "cell_type": "code",
   "execution_count": 142,
   "source": [
    "# Zeroes to Missing in Landsize and BuildingArea\r\n",
    "df['Landsize'].replace(0, np.nan, inplace=True)\r\n",
    "df['BuildingArea'].replace(0, np.nan, inplace=True)\r\n",
    "df['Distance'].replace(0, np.nan, inplace=True)"
   ],
   "outputs": [],
   "metadata": {}
  },
  {
   "cell_type": "code",
   "execution_count": 143,
   "source": [
    "df['Date'] = pd.to_datetime(df['Date'], format='%d/%m/%Y')\r\n",
    "\r\n",
    "df['Month'] = df['Date'].dt.month\r\n",
    "df['Year'] = df['Date'].dt.year\r\n",
    "\r\n",
    "df.drop('Date', axis=1, inplace=True)"
   ],
   "outputs": [],
   "metadata": {}
  },
  {
   "cell_type": "code",
   "execution_count": 144,
   "source": [
    "df.drop(['Suburb', 'SellerG'], axis=1, inplace=True)"
   ],
   "outputs": [],
   "metadata": {}
  },
  {
   "cell_type": "code",
   "execution_count": 145,
   "source": [
    "total_miss = df.isnull().sum().sort_values(ascending=False)\r\n",
    "percent = total_miss / df.shape[0]\r\n",
    "table = pd.concat([total_miss, percent], axis=1, keys=['Numbers', 'Percent'])\r\n",
    "print(table.head(15))"
   ],
   "outputs": [
    {
     "output_type": "stream",
     "name": "stdout",
     "text": [
      "               Numbers   Percent\n",
      "BuildingArea     21191  0.607941\n",
      "YearBuilt        19306  0.553863\n",
      "Landsize         14247  0.408727\n",
      "Car               8728  0.250394\n",
      "Bathroom          8226  0.235993\n",
      "Bedroom2          8217  0.235735\n",
      "Longtitude        7976  0.228821\n",
      "Lattitude         7976  0.228821\n",
      "Price             7610  0.218321\n",
      "Distance            78  0.002238\n",
      "Propertycount        3  0.000086\n",
      "Regionname           3  0.000086\n",
      "CouncilArea          3  0.000086\n",
      "Postcode             1  0.000029\n",
      "Month                0  0.000000\n"
     ]
    }
   ],
   "metadata": {}
  },
  {
   "cell_type": "markdown",
   "source": [
    "Drop feature missing > 40%"
   ],
   "metadata": {}
  },
  {
   "cell_type": "code",
   "execution_count": 146,
   "source": [
    "df.drop(['BuildingArea', 'YearBuilt', 'Landsize'], axis=1, inplace=True)"
   ],
   "outputs": [],
   "metadata": {}
  },
  {
   "cell_type": "markdown",
   "source": [
    "Drop missing thấp"
   ],
   "metadata": {}
  },
  {
   "cell_type": "code",
   "execution_count": 147,
   "source": [
    "df.dropna(subset=['Propertycount', 'Regionname', 'CouncilArea', 'Postcode', 'Distance'],\r\n",
    "          axis=0, inplace=True)"
   ],
   "outputs": [],
   "metadata": {}
  },
  {
   "cell_type": "code",
   "execution_count": 148,
   "source": [
    "# Drop: Missing in Price\r\n",
    "df.dropna(subset=['Price'], axis=0, inplace=True)"
   ],
   "outputs": [],
   "metadata": {}
  },
  {
   "cell_type": "markdown",
   "source": [
    "Xu ly Address, tach ra la trong ngo va ngoai duong"
   ],
   "metadata": {}
  },
  {
   "cell_type": "code",
   "execution_count": 149,
   "source": [
    "da_Address = df['Address']\r\n",
    "da_Address_arr = []\r\n",
    "da_Local_arr = []\r\n",
    "for s in da_Address:\r\n",
    "    if (s.find('/') == -1):\r\n",
    "        da_Local_arr.append(0)\r\n",
    "    else:\r\n",
    "        da_Local_arr.append(1)\r\n",
    "    da_Address_arr.append(s.split()[1])\r\n",
    "# da_Address_arr\r\n",
    "df['city'] = da_Address_arr\r\n",
    "df['local'] = da_Local_arr\r\n"
   ],
   "outputs": [],
   "metadata": {}
  },
  {
   "cell_type": "code",
   "execution_count": 150,
   "source": [
    "df = df.drop(['city', 'Address'], axis=1)\r\n",
    "df.describe(include='O').sort_values(axis=1, by=['unique'], ascending=False)"
   ],
   "outputs": [
    {
     "output_type": "execute_result",
     "data": {
      "text/html": [
       "<div>\n",
       "<style scoped>\n",
       "    .dataframe tbody tr th:only-of-type {\n",
       "        vertical-align: middle;\n",
       "    }\n",
       "\n",
       "    .dataframe tbody tr th {\n",
       "        vertical-align: top;\n",
       "    }\n",
       "\n",
       "    .dataframe thead th {\n",
       "        text-align: right;\n",
       "    }\n",
       "</style>\n",
       "<table border=\"1\" class=\"dataframe\">\n",
       "  <thead>\n",
       "    <tr style=\"text-align: right;\">\n",
       "      <th></th>\n",
       "      <th>CouncilArea</th>\n",
       "      <th>Regionname</th>\n",
       "      <th>Method</th>\n",
       "      <th>Type</th>\n",
       "    </tr>\n",
       "  </thead>\n",
       "  <tbody>\n",
       "    <tr>\n",
       "      <th>count</th>\n",
       "      <td>27186</td>\n",
       "      <td>27186</td>\n",
       "      <td>27186</td>\n",
       "      <td>27186</td>\n",
       "    </tr>\n",
       "    <tr>\n",
       "      <th>unique</th>\n",
       "      <td>33</td>\n",
       "      <td>8</td>\n",
       "      <td>5</td>\n",
       "      <td>3</td>\n",
       "    </tr>\n",
       "    <tr>\n",
       "      <th>top</th>\n",
       "      <td>Boroondara City Council</td>\n",
       "      <td>Southern Metropolitan</td>\n",
       "      <td>S</td>\n",
       "      <td>h</td>\n",
       "    </tr>\n",
       "    <tr>\n",
       "      <th>freq</th>\n",
       "      <td>2520</td>\n",
       "      <td>8524</td>\n",
       "      <td>17485</td>\n",
       "      <td>18470</td>\n",
       "    </tr>\n",
       "  </tbody>\n",
       "</table>\n",
       "</div>"
      ],
      "text/plain": [
       "                    CouncilArea             Regionname Method   Type\n",
       "count                     27186                  27186  27186  27186\n",
       "unique                       33                      8      5      3\n",
       "top     Boroondara City Council  Southern Metropolitan      S      h\n",
       "freq                       2520                   8524  17485  18470"
      ]
     },
     "metadata": {},
     "execution_count": 150
    }
   ],
   "metadata": {}
  },
  {
   "cell_type": "code",
   "execution_count": 151,
   "source": [
    "df.info()"
   ],
   "outputs": [
    {
     "output_type": "stream",
     "name": "stdout",
     "text": [
      "<class 'pandas.core.frame.DataFrame'>\n",
      "Int64Index: 27186 entries, 1 to 34856\n",
      "Data columns (total 17 columns):\n",
      " #   Column         Non-Null Count  Dtype  \n",
      "---  ------         --------------  -----  \n",
      " 0   Rooms          27186 non-null  int64  \n",
      " 1   Type           27186 non-null  object \n",
      " 2   Price          27186 non-null  float64\n",
      " 3   Method         27186 non-null  object \n",
      " 4   Distance       27186 non-null  float64\n",
      " 5   Postcode       27186 non-null  float64\n",
      " 6   Bedroom2       20798 non-null  float64\n",
      " 7   Bathroom       20792 non-null  float64\n",
      " 8   Car            20417 non-null  float64\n",
      " 9   CouncilArea    27186 non-null  object \n",
      " 10  Lattitude      20983 non-null  float64\n",
      " 11  Longtitude     20983 non-null  float64\n",
      " 12  Regionname     27186 non-null  object \n",
      " 13  Propertycount  27186 non-null  float64\n",
      " 14  Month          27186 non-null  int64  \n",
      " 15  Year           27186 non-null  int64  \n",
      " 16  local          27186 non-null  int64  \n",
      "dtypes: float64(9), int64(4), object(4)\n",
      "memory usage: 3.7+ MB\n"
     ]
    }
   ],
   "metadata": {}
  },
  {
   "cell_type": "code",
   "execution_count": 152,
   "source": [
    "continuous_features = ['Price', 'Distance']\r\n",
    "discrete_features  = ['Bathroom','Bedroom2', 'Car', 'Rooms']\r\n",
    "category_features  = ['Type', 'Method', 'Regionname', 'CouncilArea']"
   ],
   "outputs": [],
   "metadata": {}
  },
  {
   "cell_type": "markdown",
   "source": [
    "# Over view data"
   ],
   "metadata": {}
  },
  {
   "cell_type": "code",
   "execution_count": 153,
   "source": [
    "sns.distplot(df['Price']);"
   ],
   "outputs": [
    {
     "output_type": "display_data",
     "data": {
      "image/png": "[encoded data removed]",
      "text/plain": [
       "<Figure size 432x288 with 1 Axes>"
      ]
     },
     "metadata": {
      "needs_background": "light"
     }
    }
   ],
   "metadata": {}
  },
  {
   "cell_type": "code",
   "execution_count": 154,
   "source": [
    "df[continuous_features].hist(bins=40, figsize=(18,9))\r\n",
    "plt.show()"
   ],
   "outputs": [
    {
     "output_type": "display_data",
     "data": {
      "image/png": "[encoded data removed]",
      "text/plain": [
       "<Figure size 1296x648 with 2 Axes>"
      ]
     },
     "metadata": {
      "needs_background": "light"
     }
    }
   ],
   "metadata": {}
  },
  {
   "cell_type": "code",
   "execution_count": 24,
   "source": [
    "df[discrete_features].hist(bins=40, figsize=(20,20))\r\n",
    "plt.show()"
   ],
   "outputs": [
    {
     "output_type": "display_data",
     "data": {
      "image/png": "[encoded data removed]",
      "text/plain": [
       "<Figure size 1440x1440 with 4 Axes>"
      ]
     },
     "metadata": {
      "needs_background": "light"
     }
    }
   ],
   "metadata": {}
  },
  {
   "cell_type": "markdown",
   "source": [
    "# Outlier"
   ],
   "metadata": {}
  },
  {
   "cell_type": "code",
   "execution_count": 155,
   "source": [
    "# IQR score\r\n",
    "def IQR_outlier(data=df, features=[]):\r\n",
    "    for feature in features:\r\n",
    "        Q1 = data[feature].quantile(0.25)\r\n",
    "        Q3 = data[feature].quantile(0.75)\r\n",
    "        IQR = Q3 - Q1\r\n",
    "        outside_IQR = (data[feature]<=(Q1-1.5*IQR)) | ((Q3+1.5*IQR)<=data[feature])  \r\n",
    "        outside_IQR = outside_IQR.sum()        \r\n",
    "        \r\n",
    "        print('Outside of IQR: %s Total: %d percent %2.2f'% (feature, outside_IQR, outside_IQR/df.shape[0]))\r\n",
    "    return\r\n",
    "\r\n",
    "IQR_outlier(df, features=['Price'])"
   ],
   "outputs": [
    {
     "output_type": "stream",
     "name": "stdout",
     "text": [
      "Outside of IQR: Price Total: 1270 percent 0.05\n"
     ]
    }
   ],
   "metadata": {}
  },
  {
   "cell_type": "code",
   "execution_count": 156,
   "source": [
    "# Price vs Continuous Features\r\n",
    "corr_matrix = df[continuous_features + ['Price']].corr()\r\n",
    "\r\n",
    "figure = plt.figure(figsize=(16,12))\r\n",
    "\r\n",
    "mask = np.triu(corr_matrix) # Hide the upper part.\r\n",
    "sns.heatmap(corr_matrix, annot=True, fmt='.2f', linewidths=0.5, cmap=\"YlGnBu\", mask=mask)\r\n",
    "\r\n",
    "plt.show()"
   ],
   "outputs": [
    {
     "output_type": "display_data",
     "data": {
      "image/png": "[encoded data removed]",
      "text/plain": [
       "<Figure size 1152x864 with 2 Axes>"
      ]
     },
     "metadata": {
      "needs_background": "light"
     }
    }
   ],
   "metadata": {}
  },
  {
   "cell_type": "code",
   "execution_count": 157,
   "source": [
    "# Price vs Discrete Features\r\n",
    "\r\n",
    "corr_matrix = df[discrete_features + ['Price']].corr()\r\n",
    "\r\n",
    "figure = plt.figure(figsize=(16,12))\r\n",
    "\r\n",
    "mask = np.triu(corr_matrix) # Hide the upper part.\r\n",
    "sns.heatmap(corr_matrix, annot=True, fmt='.2f', linewidths=0.5, cmap=\"YlGnBu\", mask=mask)\r\n",
    "\r\n",
    "plt.show()"
   ],
   "outputs": [
    {
     "output_type": "display_data",
     "data": {
      "image/png": "[encoded data removed]",
      "text/plain": [
       "<Figure size 1152x864 with 2 Axes>"
      ]
     },
     "metadata": {
      "needs_background": "light"
     }
    }
   ],
   "metadata": {}
  },
  {
   "cell_type": "code",
   "execution_count": 158,
   "source": [
    "df.drop('Bedroom2', axis=1, inplace=True)\r\n",
    "\r\n",
    "discrete_features.remove('Bedroom2')"
   ],
   "outputs": [],
   "metadata": {}
  },
  {
   "cell_type": "code",
   "execution_count": 159,
   "source": [
    "features_number = continuous_features + discrete_features\r\n",
    "IQR_outlier(df, features_number)"
   ],
   "outputs": [
    {
     "output_type": "stream",
     "name": "stdout",
     "text": [
      "Outside of IQR: Price Total: 1270 percent 0.05\n",
      "Outside of IQR: Distance Total: 1188 percent 0.04\n",
      "Outside of IQR: Bathroom Total: 238 percent 0.01\n",
      "Outside of IQR: Car Total: 1171 percent 0.04\n",
      "Outside of IQR: Rooms Total: 43 percent 0.00\n"
     ]
    }
   ],
   "metadata": {}
  },
  {
   "cell_type": "code",
   "execution_count": 160,
   "source": [
    "def IQR_outlier_remove(data=df, features=[]):\r\n",
    "    for feature in features:\r\n",
    "        Q1 = data[feature].quantile(0.25)\r\n",
    "        Q3 = data[feature].quantile(0.75)\r\n",
    "        IQR = Q3 - Q1\r\n",
    "        \r\n",
    "        outside_IQR = (data[feature]<=(Q1-1.5*IQR)) | ((Q3+1.5*IQR)<=data[feature])\r\n",
    "        data = data[~outside_IQR]\r\n",
    "        # debug\r\n",
    "        #inside_IQR = ((Q1-1.5*IQR)<= data[feature]) & (data[feature]<=(Q3+1.5*IQR))\r\n",
    "        \r\n",
    "    return data\r\n",
    "\r\n",
    "# Driving code\r\n",
    "features = continuous_features + discrete_features\r\n",
    "df = IQR_outlier_remove(df, features)"
   ],
   "outputs": [],
   "metadata": {}
  },
  {
   "cell_type": "code",
   "execution_count": 161,
   "source": [
    "df.shape"
   ],
   "outputs": [
    {
     "output_type": "execute_result",
     "data": {
      "text/plain": [
       "(22948, 16)"
      ]
     },
     "metadata": {},
     "execution_count": 161
    }
   ],
   "metadata": {}
  },
  {
   "cell_type": "code",
   "execution_count": 162,
   "source": [
    "df.dtypes"
   ],
   "outputs": [
    {
     "output_type": "execute_result",
     "data": {
      "text/plain": [
       "Rooms              int64\n",
       "Type              object\n",
       "Price            float64\n",
       "Method            object\n",
       "Distance         float64\n",
       "Postcode         float64\n",
       "Bathroom         float64\n",
       "Car              float64\n",
       "CouncilArea       object\n",
       "Lattitude        float64\n",
       "Longtitude       float64\n",
       "Regionname        object\n",
       "Propertycount    float64\n",
       "Month              int64\n",
       "Year               int64\n",
       "local              int64\n",
       "dtype: object"
      ]
     },
     "metadata": {},
     "execution_count": 162
    }
   ],
   "metadata": {}
  },
  {
   "cell_type": "markdown",
   "source": [
    "# Feature scaler"
   ],
   "metadata": {}
  },
  {
   "cell_type": "code",
   "execution_count": 163,
   "source": [
    "features_to_scaler = ['Rooms', 'Distance', 'Bathroom', 'Car', 'Lattitude', 'Longtitude', 'Month', 'Year']"
   ],
   "outputs": [],
   "metadata": {}
  },
  {
   "cell_type": "code",
   "execution_count": 164,
   "source": [
    "df[features_to_scaler].hist(bins=40, figsize=(20,20))\r\n",
    "plt.show()"
   ],
   "outputs": [
    {
     "output_type": "display_data",
     "data": {
      "image/png": "[encoded data removed]",
      "text/plain": [
       "<Figure size 1440x1440 with 9 Axes>"
      ]
     },
     "metadata": {
      "needs_background": "light"
     }
    }
   ],
   "metadata": {}
  },
  {
   "cell_type": "code",
   "execution_count": 165,
   "source": [
    "features_std_scaler = ['Distance', 'Lattitude', 'Longtitude']\r\n",
    "features_nor_scaler = ['Rooms', 'Bathroom', 'Car', 'Month', 'Year']"
   ],
   "outputs": [],
   "metadata": {}
  },
  {
   "cell_type": "code",
   "execution_count": 166,
   "source": [
    "df_scaler = df"
   ],
   "outputs": [],
   "metadata": {}
  },
  {
   "cell_type": "code",
   "execution_count": 167,
   "source": [
    "std_scaler = StandardScaler()\r\n",
    "mm_scaler = MinMaxScaler()\r\n",
    "\r\n",
    "for feature_std in features_std_scaler:\r\n",
    "    df_scaler[feature_std] = std_scaler.fit_transform(df_scaler[feature_std].values.reshape(-1, 1))\r\n",
    "\r\n",
    "for feature_mm in features_nor_scaler:\r\n",
    "    df_scaler[feature_mm] = mm_scaler.fit_transform(df_scaler[feature_mm].values.reshape(-1, 1))"
   ],
   "outputs": [],
   "metadata": {}
  },
  {
   "cell_type": "code",
   "execution_count": 168,
   "source": [
    "df_scaler"
   ],
   "outputs": [
    {
     "output_type": "execute_result",
     "data": {
      "text/html": [
       "<div>\n",
       "<style scoped>\n",
       "    .dataframe tbody tr th:only-of-type {\n",
       "        vertical-align: middle;\n",
       "    }\n",
       "\n",
       "    .dataframe tbody tr th {\n",
       "        vertical-align: top;\n",
       "    }\n",
       "\n",
       "    .dataframe thead th {\n",
       "        text-align: right;\n",
       "    }\n",
       "</style>\n",
       "<table border=\"1\" class=\"dataframe\">\n",
       "  <thead>\n",
       "    <tr style=\"text-align: right;\">\n",
       "      <th></th>\n",
       "      <th>Rooms</th>\n",
       "      <th>Type</th>\n",
       "      <th>Price</th>\n",
       "      <th>Method</th>\n",
       "      <th>Distance</th>\n",
       "      <th>Postcode</th>\n",
       "      <th>Bathroom</th>\n",
       "      <th>Car</th>\n",
       "      <th>CouncilArea</th>\n",
       "      <th>Lattitude</th>\n",
       "      <th>Longtitude</th>\n",
       "      <th>Regionname</th>\n",
       "      <th>Propertycount</th>\n",
       "      <th>Month</th>\n",
       "      <th>Year</th>\n",
       "      <th>local</th>\n",
       "    </tr>\n",
       "  </thead>\n",
       "  <tbody>\n",
       "    <tr>\n",
       "      <th>1</th>\n",
       "      <td>0.333333</td>\n",
       "      <td>h</td>\n",
       "      <td>1480000.0</td>\n",
       "      <td>S</td>\n",
       "      <td>-1.503481</td>\n",
       "      <td>3067.0</td>\n",
       "      <td>0.333333</td>\n",
       "      <td>0.333333</td>\n",
       "      <td>Yarra City Council</td>\n",
       "      <td>0.048048</td>\n",
       "      <td>0.049660</td>\n",
       "      <td>Northern Metropolitan</td>\n",
       "      <td>4019.0</td>\n",
       "      <td>1.000000</td>\n",
       "      <td>0.0</td>\n",
       "      <td>0</td>\n",
       "    </tr>\n",
       "    <tr>\n",
       "      <th>2</th>\n",
       "      <td>0.333333</td>\n",
       "      <td>h</td>\n",
       "      <td>1035000.0</td>\n",
       "      <td>S</td>\n",
       "      <td>-1.503481</td>\n",
       "      <td>3067.0</td>\n",
       "      <td>0.333333</td>\n",
       "      <td>0.000000</td>\n",
       "      <td>Yarra City Council</td>\n",
       "      <td>-0.057450</td>\n",
       "      <td>0.002854</td>\n",
       "      <td>Northern Metropolitan</td>\n",
       "      <td>4019.0</td>\n",
       "      <td>0.090909</td>\n",
       "      <td>0.0</td>\n",
       "      <td>0</td>\n",
       "    </tr>\n",
       "    <tr>\n",
       "      <th>4</th>\n",
       "      <td>0.666667</td>\n",
       "      <td>h</td>\n",
       "      <td>1465000.0</td>\n",
       "      <td>SP</td>\n",
       "      <td>-1.503481</td>\n",
       "      <td>3067.0</td>\n",
       "      <td>0.666667</td>\n",
       "      <td>0.000000</td>\n",
       "      <td>Yarra City Council</td>\n",
       "      <td>-0.075245</td>\n",
       "      <td>0.012215</td>\n",
       "      <td>Northern Metropolitan</td>\n",
       "      <td>4019.0</td>\n",
       "      <td>0.181818</td>\n",
       "      <td>0.5</td>\n",
       "      <td>0</td>\n",
       "    </tr>\n",
       "    <tr>\n",
       "      <th>5</th>\n",
       "      <td>0.666667</td>\n",
       "      <td>h</td>\n",
       "      <td>850000.0</td>\n",
       "      <td>PI</td>\n",
       "      <td>-1.503481</td>\n",
       "      <td>3067.0</td>\n",
       "      <td>0.666667</td>\n",
       "      <td>0.333333</td>\n",
       "      <td>Yarra City Council</td>\n",
       "      <td>0.082367</td>\n",
       "      <td>0.035618</td>\n",
       "      <td>Northern Metropolitan</td>\n",
       "      <td>4019.0</td>\n",
       "      <td>0.181818</td>\n",
       "      <td>0.5</td>\n",
       "      <td>0</td>\n",
       "    </tr>\n",
       "    <tr>\n",
       "      <th>6</th>\n",
       "      <td>1.000000</td>\n",
       "      <td>h</td>\n",
       "      <td>1600000.0</td>\n",
       "      <td>VB</td>\n",
       "      <td>-1.503481</td>\n",
       "      <td>3067.0</td>\n",
       "      <td>0.333333</td>\n",
       "      <td>0.666667</td>\n",
       "      <td>Yarra City Council</td>\n",
       "      <td>-0.048553</td>\n",
       "      <td>0.009407</td>\n",
       "      <td>Northern Metropolitan</td>\n",
       "      <td>4019.0</td>\n",
       "      <td>0.454545</td>\n",
       "      <td>0.0</td>\n",
       "      <td>0</td>\n",
       "    </tr>\n",
       "    <tr>\n",
       "      <th>...</th>\n",
       "      <td>...</td>\n",
       "      <td>...</td>\n",
       "      <td>...</td>\n",
       "      <td>...</td>\n",
       "      <td>...</td>\n",
       "      <td>...</td>\n",
       "      <td>...</td>\n",
       "      <td>...</td>\n",
       "      <td>...</td>\n",
       "      <td>...</td>\n",
       "      <td>...</td>\n",
       "      <td>...</td>\n",
       "      <td>...</td>\n",
       "      <td>...</td>\n",
       "      <td>...</td>\n",
       "      <td>...</td>\n",
       "    </tr>\n",
       "    <tr>\n",
       "      <th>34852</th>\n",
       "      <td>1.000000</td>\n",
       "      <td>h</td>\n",
       "      <td>1480000.0</td>\n",
       "      <td>PI</td>\n",
       "      <td>-0.772816</td>\n",
       "      <td>3013.0</td>\n",
       "      <td>0.333333</td>\n",
       "      <td>1.000000</td>\n",
       "      <td>Maribyrnong City Council</td>\n",
       "      <td>-0.090879</td>\n",
       "      <td>-1.014986</td>\n",
       "      <td>Western Metropolitan</td>\n",
       "      <td>6543.0</td>\n",
       "      <td>0.090909</td>\n",
       "      <td>1.0</td>\n",
       "      <td>0</td>\n",
       "    </tr>\n",
       "    <tr>\n",
       "      <th>34853</th>\n",
       "      <td>0.333333</td>\n",
       "      <td>h</td>\n",
       "      <td>888000.0</td>\n",
       "      <td>SP</td>\n",
       "      <td>-0.772816</td>\n",
       "      <td>3013.0</td>\n",
       "      <td>0.666667</td>\n",
       "      <td>0.333333</td>\n",
       "      <td>Maribyrnong City Council</td>\n",
       "      <td>-0.154178</td>\n",
       "      <td>-0.981380</td>\n",
       "      <td>Western Metropolitan</td>\n",
       "      <td>6543.0</td>\n",
       "      <td>0.090909</td>\n",
       "      <td>1.0</td>\n",
       "      <td>0</td>\n",
       "    </tr>\n",
       "    <tr>\n",
       "      <th>34854</th>\n",
       "      <td>0.333333</td>\n",
       "      <td>t</td>\n",
       "      <td>705000.0</td>\n",
       "      <td>S</td>\n",
       "      <td>-0.772816</td>\n",
       "      <td>3013.0</td>\n",
       "      <td>0.333333</td>\n",
       "      <td>0.666667</td>\n",
       "      <td>Maribyrnong City Council</td>\n",
       "      <td>-0.247601</td>\n",
       "      <td>-1.072183</td>\n",
       "      <td>Western Metropolitan</td>\n",
       "      <td>6543.0</td>\n",
       "      <td>0.090909</td>\n",
       "      <td>1.0</td>\n",
       "      <td>0</td>\n",
       "    </tr>\n",
       "    <tr>\n",
       "      <th>34855</th>\n",
       "      <td>0.666667</td>\n",
       "      <td>h</td>\n",
       "      <td>1140000.0</td>\n",
       "      <td>SP</td>\n",
       "      <td>-0.772816</td>\n",
       "      <td>3013.0</td>\n",
       "      <td>NaN</td>\n",
       "      <td>NaN</td>\n",
       "      <td>Maribyrnong City Council</td>\n",
       "      <td>NaN</td>\n",
       "      <td>NaN</td>\n",
       "      <td>Western Metropolitan</td>\n",
       "      <td>6543.0</td>\n",
       "      <td>0.090909</td>\n",
       "      <td>1.0</td>\n",
       "      <td>1</td>\n",
       "    </tr>\n",
       "    <tr>\n",
       "      <th>34856</th>\n",
       "      <td>0.333333</td>\n",
       "      <td>h</td>\n",
       "      <td>1020000.0</td>\n",
       "      <td>PI</td>\n",
       "      <td>-0.772816</td>\n",
       "      <td>3013.0</td>\n",
       "      <td>0.333333</td>\n",
       "      <td>0.000000</td>\n",
       "      <td>Maribyrnong City Council</td>\n",
       "      <td>-0.187099</td>\n",
       "      <td>-0.932233</td>\n",
       "      <td>Western Metropolitan</td>\n",
       "      <td>6543.0</td>\n",
       "      <td>0.090909</td>\n",
       "      <td>1.0</td>\n",
       "      <td>0</td>\n",
       "    </tr>\n",
       "  </tbody>\n",
       "</table>\n",
       "<p>22948 rows × 16 columns</p>\n",
       "</div>"
      ],
      "text/plain": [
       "          Rooms Type      Price Method  Distance  Postcode  Bathroom  \\\n",
       "1      0.333333    h  1480000.0      S -1.503481    3067.0  0.333333   \n",
       "2      0.333333    h  1035000.0      S -1.503481    3067.0  0.333333   \n",
       "4      0.666667    h  1465000.0     SP -1.503481    3067.0  0.666667   \n",
       "5      0.666667    h   850000.0     PI -1.503481    3067.0  0.666667   \n",
       "6      1.000000    h  1600000.0     VB -1.503481    3067.0  0.333333   \n",
       "...         ...  ...        ...    ...       ...       ...       ...   \n",
       "34852  1.000000    h  1480000.0     PI -0.772816    3013.0  0.333333   \n",
       "34853  0.333333    h   888000.0     SP -0.772816    3013.0  0.666667   \n",
       "34854  0.333333    t   705000.0      S -0.772816    3013.0  0.333333   \n",
       "34855  0.666667    h  1140000.0     SP -0.772816    3013.0       NaN   \n",
       "34856  0.333333    h  1020000.0     PI -0.772816    3013.0  0.333333   \n",
       "\n",
       "            Car               CouncilArea  Lattitude  Longtitude  \\\n",
       "1      0.333333        Yarra City Council   0.048048    0.049660   \n",
       "2      0.000000        Yarra City Council  -0.057450    0.002854   \n",
       "4      0.000000        Yarra City Council  -0.075245    0.012215   \n",
       "5      0.333333        Yarra City Council   0.082367    0.035618   \n",
       "6      0.666667        Yarra City Council  -0.048553    0.009407   \n",
       "...         ...                       ...        ...         ...   \n",
       "34852  1.000000  Maribyrnong City Council  -0.090879   -1.014986   \n",
       "34853  0.333333  Maribyrnong City Council  -0.154178   -0.981380   \n",
       "34854  0.666667  Maribyrnong City Council  -0.247601   -1.072183   \n",
       "34855       NaN  Maribyrnong City Council        NaN         NaN   \n",
       "34856  0.000000  Maribyrnong City Council  -0.187099   -0.932233   \n",
       "\n",
       "                  Regionname  Propertycount     Month  Year  local  \n",
       "1      Northern Metropolitan         4019.0  1.000000   0.0      0  \n",
       "2      Northern Metropolitan         4019.0  0.090909   0.0      0  \n",
       "4      Northern Metropolitan         4019.0  0.181818   0.5      0  \n",
       "5      Northern Metropolitan         4019.0  0.181818   0.5      0  \n",
       "6      Northern Metropolitan         4019.0  0.454545   0.0      0  \n",
       "...                      ...            ...       ...   ...    ...  \n",
       "34852   Western Metropolitan         6543.0  0.090909   1.0      0  \n",
       "34853   Western Metropolitan         6543.0  0.090909   1.0      0  \n",
       "34854   Western Metropolitan         6543.0  0.090909   1.0      0  \n",
       "34855   Western Metropolitan         6543.0  0.090909   1.0      1  \n",
       "34856   Western Metropolitan         6543.0  0.090909   1.0      0  \n",
       "\n",
       "[22948 rows x 16 columns]"
      ]
     },
     "metadata": {},
     "execution_count": 168
    }
   ],
   "metadata": {}
  },
  {
   "cell_type": "markdown",
   "source": [
    "# Encode"
   ],
   "metadata": {}
  },
  {
   "cell_type": "markdown",
   "source": [
    "## one hot encode"
   ],
   "metadata": {}
  },
  {
   "cell_type": "code",
   "execution_count": 169,
   "source": [
    "df_encode = pd.get_dummies(df_scaler)"
   ],
   "outputs": [],
   "metadata": {}
  },
  {
   "cell_type": "code",
   "execution_count": 170,
   "source": [
    "df_encode.dtypes"
   ],
   "outputs": [
    {
     "output_type": "execute_result",
     "data": {
      "text/plain": [
       "Rooms                                         float64\n",
       "Price                                         float64\n",
       "Distance                                      float64\n",
       "Postcode                                      float64\n",
       "Bathroom                                      float64\n",
       "Car                                           float64\n",
       "Lattitude                                     float64\n",
       "Longtitude                                    float64\n",
       "Propertycount                                 float64\n",
       "Month                                         float64\n",
       "Year                                          float64\n",
       "local                                           int64\n",
       "Type_h                                          uint8\n",
       "Type_t                                          uint8\n",
       "Type_u                                          uint8\n",
       "Method_PI                                       uint8\n",
       "Method_S                                        uint8\n",
       "Method_SA                                       uint8\n",
       "Method_SP                                       uint8\n",
       "Method_VB                                       uint8\n",
       "CouncilArea_Banyule City Council                uint8\n",
       "CouncilArea_Bayside City Council                uint8\n",
       "CouncilArea_Boroondara City Council             uint8\n",
       "CouncilArea_Brimbank City Council               uint8\n",
       "CouncilArea_Darebin City Council                uint8\n",
       "CouncilArea_Glen Eira City Council              uint8\n",
       "CouncilArea_Greater Dandenong City Council      uint8\n",
       "CouncilArea_Hobsons Bay City Council            uint8\n",
       "CouncilArea_Hume City Council                   uint8\n",
       "CouncilArea_Kingston City Council               uint8\n",
       "CouncilArea_Knox City Council                   uint8\n",
       "CouncilArea_Manningham City Council             uint8\n",
       "CouncilArea_Maribyrnong City Council            uint8\n",
       "CouncilArea_Maroondah City Council              uint8\n",
       "CouncilArea_Melbourne City Council              uint8\n",
       "CouncilArea_Melton City Council                 uint8\n",
       "CouncilArea_Monash City Council                 uint8\n",
       "CouncilArea_Moonee Valley City Council          uint8\n",
       "CouncilArea_Moreland City Council               uint8\n",
       "CouncilArea_Nillumbik Shire Council             uint8\n",
       "CouncilArea_Port Phillip City Council           uint8\n",
       "CouncilArea_Stonnington City Council            uint8\n",
       "CouncilArea_Whitehorse City Council             uint8\n",
       "CouncilArea_Whittlesea City Council             uint8\n",
       "CouncilArea_Wyndham City Council                uint8\n",
       "CouncilArea_Yarra City Council                  uint8\n",
       "Regionname_Eastern Metropolitan                 uint8\n",
       "Regionname_Eastern Victoria                     uint8\n",
       "Regionname_Northern Metropolitan                uint8\n",
       "Regionname_Northern Victoria                    uint8\n",
       "Regionname_South-Eastern Metropolitan           uint8\n",
       "Regionname_Southern Metropolitan                uint8\n",
       "Regionname_Western Metropolitan                 uint8\n",
       "dtype: object"
      ]
     },
     "metadata": {},
     "execution_count": 170
    }
   ],
   "metadata": {}
  },
  {
   "cell_type": "code",
   "execution_count": 171,
   "source": [
    "df_encode.shape"
   ],
   "outputs": [
    {
     "output_type": "execute_result",
     "data": {
      "text/plain": [
       "(22948, 53)"
      ]
     },
     "metadata": {},
     "execution_count": 171
    }
   ],
   "metadata": {}
  },
  {
   "cell_type": "markdown",
   "source": [
    "# Missing value"
   ],
   "metadata": {}
  },
  {
   "cell_type": "code",
   "execution_count": 172,
   "source": [
    "# K-nn imputation\r\n",
    "neighbors = 11\r\n",
    "imputer = KNNImputer(n_neighbors=neighbors)\r\n",
    "\r\n",
    "df_filled = imputer.fit_transform(df_encode)\r\n",
    "df_filled = pd.DataFrame(df_filled)"
   ],
   "outputs": [],
   "metadata": {}
  },
  {
   "cell_type": "code",
   "execution_count": 132,
   "source": [
    "df_filled.head()"
   ],
   "outputs": [
    {
     "output_type": "execute_result",
     "data": {
      "text/html": [
       "<div>\n",
       "<style scoped>\n",
       "    .dataframe tbody tr th:only-of-type {\n",
       "        vertical-align: middle;\n",
       "    }\n",
       "\n",
       "    .dataframe tbody tr th {\n",
       "        vertical-align: top;\n",
       "    }\n",
       "\n",
       "    .dataframe thead th {\n",
       "        text-align: right;\n",
       "    }\n",
       "</style>\n",
       "<table border=\"1\" class=\"dataframe\">\n",
       "  <thead>\n",
       "    <tr style=\"text-align: right;\">\n",
       "      <th></th>\n",
       "      <th>0</th>\n",
       "      <th>1</th>\n",
       "      <th>2</th>\n",
       "      <th>3</th>\n",
       "      <th>4</th>\n",
       "      <th>5</th>\n",
       "      <th>6</th>\n",
       "      <th>7</th>\n",
       "      <th>8</th>\n",
       "      <th>9</th>\n",
       "      <th>...</th>\n",
       "      <th>35</th>\n",
       "      <th>36</th>\n",
       "      <th>37</th>\n",
       "      <th>38</th>\n",
       "      <th>39</th>\n",
       "      <th>40</th>\n",
       "      <th>41</th>\n",
       "      <th>42</th>\n",
       "      <th>43</th>\n",
       "      <th>44</th>\n",
       "    </tr>\n",
       "  </thead>\n",
       "  <tbody>\n",
       "    <tr>\n",
       "      <th>0</th>\n",
       "      <td>0.333333</td>\n",
       "      <td>1480000.0</td>\n",
       "      <td>-1.493072</td>\n",
       "      <td>0.333333</td>\n",
       "      <td>0.333333</td>\n",
       "      <td>0.047912</td>\n",
       "      <td>0.050003</td>\n",
       "      <td>1.000000</td>\n",
       "      <td>0.0</td>\n",
       "      <td>0.068966</td>\n",
       "      <td>...</td>\n",
       "      <td>0.0</td>\n",
       "      <td>0.0</td>\n",
       "      <td>0.0</td>\n",
       "      <td>0.0</td>\n",
       "      <td>0.0</td>\n",
       "      <td>0.0</td>\n",
       "      <td>0.0</td>\n",
       "      <td>0.0</td>\n",
       "      <td>0.0</td>\n",
       "      <td>1.0</td>\n",
       "    </tr>\n",
       "    <tr>\n",
       "      <th>1</th>\n",
       "      <td>0.333333</td>\n",
       "      <td>1035000.0</td>\n",
       "      <td>-1.493072</td>\n",
       "      <td>0.333333</td>\n",
       "      <td>0.000000</td>\n",
       "      <td>-0.057611</td>\n",
       "      <td>0.003190</td>\n",
       "      <td>0.090909</td>\n",
       "      <td>0.0</td>\n",
       "      <td>0.103448</td>\n",
       "      <td>...</td>\n",
       "      <td>0.0</td>\n",
       "      <td>0.0</td>\n",
       "      <td>0.0</td>\n",
       "      <td>0.0</td>\n",
       "      <td>0.0</td>\n",
       "      <td>0.0</td>\n",
       "      <td>0.0</td>\n",
       "      <td>0.0</td>\n",
       "      <td>0.0</td>\n",
       "      <td>1.0</td>\n",
       "    </tr>\n",
       "    <tr>\n",
       "      <th>2</th>\n",
       "      <td>0.666667</td>\n",
       "      <td>1465000.0</td>\n",
       "      <td>-1.493072</td>\n",
       "      <td>0.666667</td>\n",
       "      <td>0.000000</td>\n",
       "      <td>-0.075409</td>\n",
       "      <td>0.012553</td>\n",
       "      <td>0.181818</td>\n",
       "      <td>0.5</td>\n",
       "      <td>0.103448</td>\n",
       "      <td>...</td>\n",
       "      <td>0.0</td>\n",
       "      <td>0.0</td>\n",
       "      <td>0.0</td>\n",
       "      <td>0.0</td>\n",
       "      <td>0.0</td>\n",
       "      <td>0.0</td>\n",
       "      <td>0.0</td>\n",
       "      <td>0.0</td>\n",
       "      <td>0.0</td>\n",
       "      <td>1.0</td>\n",
       "    </tr>\n",
       "    <tr>\n",
       "      <th>3</th>\n",
       "      <td>0.666667</td>\n",
       "      <td>850000.0</td>\n",
       "      <td>-1.493072</td>\n",
       "      <td>0.666667</td>\n",
       "      <td>0.333333</td>\n",
       "      <td>0.082239</td>\n",
       "      <td>0.035959</td>\n",
       "      <td>0.181818</td>\n",
       "      <td>0.5</td>\n",
       "      <td>0.103448</td>\n",
       "      <td>...</td>\n",
       "      <td>0.0</td>\n",
       "      <td>0.0</td>\n",
       "      <td>0.0</td>\n",
       "      <td>0.0</td>\n",
       "      <td>0.0</td>\n",
       "      <td>0.0</td>\n",
       "      <td>0.0</td>\n",
       "      <td>0.0</td>\n",
       "      <td>0.0</td>\n",
       "      <td>1.0</td>\n",
       "    </tr>\n",
       "    <tr>\n",
       "      <th>4</th>\n",
       "      <td>1.000000</td>\n",
       "      <td>1600000.0</td>\n",
       "      <td>-1.493072</td>\n",
       "      <td>0.333333</td>\n",
       "      <td>0.666667</td>\n",
       "      <td>-0.048711</td>\n",
       "      <td>0.009744</td>\n",
       "      <td>0.454545</td>\n",
       "      <td>0.0</td>\n",
       "      <td>0.103448</td>\n",
       "      <td>...</td>\n",
       "      <td>0.0</td>\n",
       "      <td>0.0</td>\n",
       "      <td>0.0</td>\n",
       "      <td>0.0</td>\n",
       "      <td>0.0</td>\n",
       "      <td>0.0</td>\n",
       "      <td>0.0</td>\n",
       "      <td>0.0</td>\n",
       "      <td>0.0</td>\n",
       "      <td>1.0</td>\n",
       "    </tr>\n",
       "  </tbody>\n",
       "</table>\n",
       "<p>5 rows × 45 columns</p>\n",
       "</div>"
      ],
      "text/plain": [
       "         0          1         2         3         4         5         6   \\\n",
       "0  0.333333  1480000.0 -1.493072  0.333333  0.333333  0.047912  0.050003   \n",
       "1  0.333333  1035000.0 -1.493072  0.333333  0.000000 -0.057611  0.003190   \n",
       "2  0.666667  1465000.0 -1.493072  0.666667  0.000000 -0.075409  0.012553   \n",
       "3  0.666667   850000.0 -1.493072  0.666667  0.333333  0.082239  0.035959   \n",
       "4  1.000000  1600000.0 -1.493072  0.333333  0.666667 -0.048711  0.009744   \n",
       "\n",
       "         7    8         9   ...   35   36   37   38   39   40   41   42   43  \\\n",
       "0  1.000000  0.0  0.068966  ...  0.0  0.0  0.0  0.0  0.0  0.0  0.0  0.0  0.0   \n",
       "1  0.090909  0.0  0.103448  ...  0.0  0.0  0.0  0.0  0.0  0.0  0.0  0.0  0.0   \n",
       "2  0.181818  0.5  0.103448  ...  0.0  0.0  0.0  0.0  0.0  0.0  0.0  0.0  0.0   \n",
       "3  0.181818  0.5  0.103448  ...  0.0  0.0  0.0  0.0  0.0  0.0  0.0  0.0  0.0   \n",
       "4  0.454545  0.0  0.103448  ...  0.0  0.0  0.0  0.0  0.0  0.0  0.0  0.0  0.0   \n",
       "\n",
       "    44  \n",
       "0  1.0  \n",
       "1  1.0  \n",
       "2  1.0  \n",
       "3  1.0  \n",
       "4  1.0  \n",
       "\n",
       "[5 rows x 45 columns]"
      ]
     },
     "metadata": {},
     "execution_count": 132
    }
   ],
   "metadata": {}
  },
  {
   "cell_type": "code",
   "execution_count": 133,
   "source": [
    "y = df_filled[1]\r\n",
    "\r\n",
    "X = df_filled.drop(labels=1, axis=1)"
   ],
   "outputs": [],
   "metadata": {}
  },
  {
   "cell_type": "code",
   "execution_count": 134,
   "source": [
    "X_train, X_test, y_train, y_test = train_test_split(X, y, test_size=0.2, random_state=11)"
   ],
   "outputs": [],
   "metadata": {}
  },
  {
   "cell_type": "code",
   "execution_count": 194,
   "source": [
    "le = LinearRegression()\r\n",
    "le.fit(X_train, y_train)\r\n",
    "y_pred = le.predict(X_test)"
   ],
   "outputs": [],
   "metadata": {}
  },
  {
   "cell_type": "code",
   "execution_count": 199,
   "source": [
    "from sklearn import metrics\r\n",
    "print('MAE: ', metrics.mean_absolute_error(y_test, y_pred))\r\n",
    "print('MSE:', metrics.mean_squared_error(y_test, y_pred))\r\n",
    "print('RMSE:', np.sqrt(metrics.mean_squared_error(y_test, y_pred)))\r\n",
    "print('R_Square:', metrics.r2_score(y_test, y_pred))"
   ],
   "outputs": [
    {
     "output_type": "stream",
     "name": "stdout",
     "text": [
      "MAE:  159346.41871688265\n",
      "MSE: 48104747302.48427\n",
      "RMSE: 219327.94464564763\n",
      "R_Square: 0.7453309691228778\n"
     ]
    }
   ],
   "metadata": {}
  },
  {
   "cell_type": "code",
   "execution_count": 201,
   "source": [
    "from sklearn.ensemble import RandomForestRegressor\r\n",
    "rf = RandomForestRegressor(n_estimators=100,random_state=42)\r\n",
    "rf.fit(X_train,y_train)\r\n",
    "predict_ra = rf.predict(X_test)"
   ],
   "outputs": [],
   "metadata": {}
  },
  {
   "cell_type": "code",
   "execution_count": 202,
   "source": [
    "from sklearn import metrics\r\n",
    "print('MAE: ', metrics.mean_absolute_error(y_test, predict_ra))\r\n",
    "print('MSE:', metrics.mean_squared_error(y_test, predict_ra))\r\n",
    "print('RMSE:', np.sqrt(metrics.mean_squared_error(y_test, predict_ra)))\r\n",
    "print('R_Square:', metrics.r2_score(y_test, predict_ra))"
   ],
   "outputs": [
    {
     "output_type": "stream",
     "name": "stdout",
     "text": [
      "MAE:  134654.75000434878\n",
      "MSE: 36939604219.77985\n",
      "RMSE: 192196.7851442366\n",
      "R_Square: 0.8044398165428059\n"
     ]
    }
   ],
   "metadata": {}
  },
  {
   "cell_type": "code",
   "execution_count": null,
   "source": [],
   "outputs": [],
   "metadata": {}
  },
  {
   "cell_type": "markdown",
   "source": [
    "# Keras"
   ],
   "metadata": {}
  },
  {
   "cell_type": "code",
   "execution_count": 179,
   "source": [
    "import tensorflow as tf\r\n",
    "from tensorflow.keras import Sequential\r\n",
    "from tensorflow.keras.layers import Dense"
   ],
   "outputs": [],
   "metadata": {}
  },
  {
   "cell_type": "code",
   "execution_count": null,
   "source": [],
   "outputs": [],
   "metadata": {}
  }
 ],
 "metadata": {
  "orig_nbformat": 4,
  "language_info": {
   "name": "python",
   "version": "3.9.6",
   "mimetype": "text/x-python",
   "codemirror_mode": {
    "name": "ipython",
    "version": 3
   },
   "pygments_lexer": "ipython3",
   "nbconvert_exporter": "python",
   "file_extension": ".py"
  },
  "kernelspec": {
   "name": "python3",
   "display_name": "Python 3.9.6 64-bit"
  },
  "interpreter": {
   "hash": "95ab7303ed2746327945aa376054eddca8c4eca362915ff95db932dbe7e7ee41"
  }
 },
 "nbformat": 4,
 "nbformat_minor": 2
}